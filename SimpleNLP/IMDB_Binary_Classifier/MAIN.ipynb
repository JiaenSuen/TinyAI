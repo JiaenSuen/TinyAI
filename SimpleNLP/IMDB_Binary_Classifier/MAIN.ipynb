{
 "cells": [
  {
   "cell_type": "code",
   "execution_count": 1,
   "id": "a25a50cc",
   "metadata": {},
   "outputs": [],
   "source": [
    "import torch\n",
    "import torch.nn as nn\n",
    "import torch.optim as optim\n",
    "import torch.nn.functional as F\n",
    "\n",
    "import numpy as np\n",
    "import pandas as pd\n",
    "import re\n"
   ]
  },
  {
   "cell_type": "code",
   "execution_count": 2,
   "id": "b29ce99f",
   "metadata": {},
   "outputs": [
    {
     "name": "stdout",
     "output_type": "stream",
     "text": [
      "                                              review  sentiment\n",
      "0  One of the other reviewers has mentioned that ...          1\n",
      "1  A wonderful little production. <br /><br />The...          1\n",
      "2  I thought this was a wonderful way to spend ti...          1\n",
      "3  Basically there's a family where a little boy ...          0\n",
      "4  Petter Mattei's \"Love in the Time of Money\" is...          1\n"
     ]
    }
   ],
   "source": [
    "df = pd.read_csv('IMDB Dataset.csv')\n",
    "df['sentiment'] = df['sentiment'].map({'positive': 1, 'negative': 0})\n",
    "print(df[['review', 'sentiment']].head())"
   ]
  },
  {
   "cell_type": "markdown",
   "id": "ee3bab23",
   "metadata": {},
   "source": [
    "Text → tokenizer → vocab lookup → embedding → LSTM → hidden layer → linear → softmax → Classify"
   ]
  },
  {
   "cell_type": "markdown",
   "id": "1c6c97be",
   "metadata": {},
   "source": [
    "### Text Processing"
   ]
  },
  {
   "cell_type": "code",
   "execution_count": 3,
   "id": "4266788a",
   "metadata": {},
   "outputs": [],
   "source": [
    "# Tokenizer\n",
    "def simple_tokenizer(text):\n",
    "    text = re.sub(r'<.*?>', '', text) # remove html mark\n",
    "    text = text.lower()\n",
    "    tokens = re.findall(r'\\b\\w+\\b', text)\n",
    "\n",
    "    return tokens"
   ]
  },
  {
   "cell_type": "code",
   "execution_count": 4,
   "id": "1b87227b",
   "metadata": {},
   "outputs": [],
   "source": [
    "\n",
    "# Vocab : Dict \n",
    "texts = df['review'].tolist()\n",
    "from collections import Counter\n",
    "\n",
    "def build_vocab(texts):\n",
    "    counter = Counter()\n",
    "    for text in texts:\n",
    "        tokens = simple_tokenizer(text)\n",
    "        counter.update(tokens)\n",
    "\n",
    "    max_vocab_size = 10000\n",
    "    most_common = counter.most_common(max_vocab_size - 2)  # minus PAD、UNK\n",
    "\n",
    "    # 建立 vocab dict\n",
    "    vocab = {'<PAD>': 0, '<UNK>': 1}\n",
    "    for idx, (word, freq) in enumerate(most_common, start=2):\n",
    "        vocab[word] = idx\n",
    "\n",
    "    return vocab\n",
    "\n",
    "def tokens_to_ids(tokens, vocab):\n",
    "    return [vocab.get(token, vocab['<UNK>']) for token in tokens]\n",
    "\n",
    "\n",
    "# [('<PAD>', 0), ('<UNK>', 1), ('the', 2), ('and', 3), ('a', 4), ('of', 5), ('to', 6), ('is', 7), ('it', 8), ('in', 9)]"
   ]
  },
  {
   "cell_type": "code",
   "execution_count": 5,
   "id": "e7c473f4",
   "metadata": {},
   "outputs": [],
   "source": [
    "from torch.utils.data import Dataset\n",
    "\n",
    "\n",
    "# Text to Tokenizer & Vocab\n",
    "class IMDBDataset(Dataset):\n",
    "    def __init__(self, data, vocab, tokenizer, max_len=100):\n",
    "        self.data = data\n",
    "        self.vocab = vocab\n",
    "        self.tokenizer = tokenizer\n",
    "        self.max_len = max_len\n",
    "\n",
    "    def __getitem__(self, idx):\n",
    "        text = self.data.iloc[idx]['review']\n",
    "        label = self.data.iloc[idx]['sentiment']\n",
    "\n",
    "        tokens = self.tokenizer(text)  \n",
    "        token_ids = tokens_to_ids(tokens, self.vocab)\n",
    "\n",
    "        # 補齊 padding\n",
    "        if len(token_ids) < self.max_len:\n",
    "            token_ids += [self.vocab['<PAD>']] * (self.max_len - len(token_ids))\n",
    "        else:\n",
    "            token_ids = token_ids[:self.max_len]\n",
    "\n",
    "        return {\n",
    "            'input_ids': torch.tensor(token_ids, dtype=torch.long),\n",
    "            'label': torch.tensor(label, dtype=torch.long)\n",
    "        }\n",
    "\n",
    "    def __len__(self):\n",
    "        return len(self.data)\n",
    "\n"
   ]
  },
  {
   "cell_type": "code",
   "execution_count": 6,
   "id": "0f1f1322",
   "metadata": {},
   "outputs": [],
   "source": [
    "# build vocab\n",
    "vocab = build_vocab(df['review'].tolist())\n",
    "\n",
    "# build dataset\n",
    "dataset = IMDBDataset(df, vocab, simple_tokenizer, max_len=100)\n"
   ]
  },
  {
   "cell_type": "code",
   "execution_count": 7,
   "id": "01a45a2e",
   "metadata": {},
   "outputs": [
    {
     "name": "stdout",
     "output_type": "stream",
     "text": [
      "torch.Size([32, 100])\n",
      "torch.Size([32])\n"
     ]
    }
   ],
   "source": [
    "from torch.utils.data import DataLoader\n",
    "\n",
    "dataloader = DataLoader(dataset, batch_size=32, shuffle=True)\n",
    "\n",
    " \n",
    "for batch in dataloader:\n",
    "    print(batch['input_ids'].shape)  # torch.Size([32, 100])\n",
    "    print(batch['label'].shape)      # torch.Size([32])\n",
    "    break"
   ]
  },
  {
   "cell_type": "markdown",
   "id": "6720c642",
   "metadata": {},
   "source": [
    "### Model"
   ]
  },
  {
   "cell_type": "code",
   "execution_count": 8,
   "id": "18552fa2",
   "metadata": {},
   "outputs": [],
   "source": [
    "class IMDBClassifier(nn.Module):\n",
    "    def __init__(self, vocab_size, embedding_dim=128, hidden_dim=128, num_classes=2):\n",
    "        super(IMDBClassifier, self).__init__()\n",
    "        self.embedding = nn.Embedding(num_embeddings=vocab_size, embedding_dim=embedding_dim, padding_idx=0)\n",
    "        self.lstm = nn.LSTM(input_size=embedding_dim, hidden_size=hidden_dim, batch_first=True)\n",
    "        self.fc = nn.Linear(hidden_dim, num_classes)\n",
    "\n",
    "    def forward(self, input_ids):\n",
    "        # input_ids: [batch_size, seq_len]\n",
    "        # embedding\n",
    "        embedded = self.embedding(input_ids)  # [batch_size, seq_len, embedding_dim]\n",
    "        # LSTM\n",
    "        output, (hidden, cell) = self.lstm(embedded)  # hidden: [1, batch_size, hidden_dim]\n",
    "        final_hidden = hidden[-1]  # [batch_size, hidden_dim]\n",
    "        logits = self.fc(final_hidden)  # [batch_size, num_classes]\n",
    "        return logits\n"
   ]
  },
  {
   "cell_type": "code",
   "execution_count": 9,
   "id": "1af18c4a",
   "metadata": {},
   "outputs": [],
   "source": [
    "vocab_size = len(vocab)\n",
    "model = IMDBClassifier(vocab_size=vocab_size, embedding_dim=128, hidden_dim=128, num_classes=2)"
   ]
  },
  {
   "cell_type": "code",
   "execution_count": 10,
   "id": "e2a7de75",
   "metadata": {},
   "outputs": [],
   "source": [
    "criterion = nn.CrossEntropyLoss()\n",
    "optimizer = optim.Adam(model.parameters(), lr=1e-3)\n",
    "device = torch.device('cuda' if torch.cuda.is_available() else 'cpu')\n",
    "model = model.to(device)"
   ]
  },
  {
   "cell_type": "markdown",
   "id": "ac73b825",
   "metadata": {},
   "source": [
    "Dataset: 文字 → token → id <br>\n",
    "↓<br>\n",
    "Model:<br>\n",
    "Embedding → LSTM → Linear<br>\n",
    "↓<br>\n",
    "CrossEntropyLoss + Optimizer<br>\n"
   ]
  },
  {
   "cell_type": "code",
   "execution_count": 11,
   "id": "22922c6d",
   "metadata": {},
   "outputs": [
    {
     "name": "stdout",
     "output_type": "stream",
     "text": [
      "Epoch 1: Loss = 0.6578, Accuracy = 0.5998\n",
      "Epoch 2: Loss = 0.4832, Accuracy = 0.7797\n",
      "Epoch 3: Loss = 0.3637, Accuracy = 0.8420\n",
      "Epoch 4: Loss = 0.3001, Accuracy = 0.8752\n",
      "Epoch 5: Loss = 0.2397, Accuracy = 0.9051\n"
     ]
    }
   ],
   "source": [
    "for epoch in range(5):\n",
    "    model.train()\n",
    "\n",
    "    total_loss = 0\n",
    "    total_correct = 0\n",
    "    total_samples = 0\n",
    "\n",
    "    for batch in dataloader:\n",
    "        input_ids = batch['input_ids'].to(device)\n",
    "        labels = batch['label'].to(device)\n",
    "\n",
    "        # Forward\n",
    "        outputs = model(input_ids)   \n",
    "        # Loss\n",
    "        loss = criterion(outputs, labels)\n",
    "        # Backward\n",
    "        optimizer.zero_grad()\n",
    "        loss.backward()\n",
    "        optimizer.step()\n",
    "\n",
    " \n",
    "        total_loss += loss.item()\n",
    "        preds = torch.argmax(outputs, dim=1)  \n",
    "        total_correct += (preds == labels).sum().item()\n",
    "        total_samples += labels.size(0)\n",
    "\n",
    "    avg_loss = total_loss / len(dataloader)\n",
    "    acc = total_correct / total_samples\n",
    "\n",
    "    print(f\"Epoch {epoch+1}: Loss = {avg_loss:.4f}, Accuracy = {acc:.4f}\")\n",
    "\n"
   ]
  },
  {
   "cell_type": "code",
   "execution_count": 12,
   "id": "38ce346f",
   "metadata": {},
   "outputs": [],
   "source": [
    "def predict_sentiment(model, vocab, tokenizer, text, max_len=100, device='cpu'):\n",
    "    model.eval()  \n",
    "    text = re.sub(r'<.*?>', '', text)\n",
    "    tokens = tokenizer(text)\n",
    "    token_ids = [vocab.get(token, vocab['<UNK>']) for token in tokens]\n",
    "    if len(token_ids) < max_len:\n",
    "        token_ids += [vocab['<PAD>']] * (max_len - len(token_ids))\n",
    "    else:\n",
    "        token_ids = token_ids[:max_len]\n",
    "    input_ids = torch.tensor([token_ids], dtype=torch.long).to(device)  # shape: [1, max_len]\n",
    "\n",
    "\n",
    "\n",
    "    #  forward\n",
    "    with torch.no_grad():\n",
    "        outputs = model(input_ids)  # shape: [1, 2]\n",
    "\n",
    "        # softmax  \n",
    "        probs = F.softmax(outputs, dim=1)\n",
    "        pred_class = torch.argmax(probs, dim=1).item()\n",
    "        confidence = probs[0, pred_class].item()\n",
    "\n",
    "    #  output ...\n",
    "    label_map = {0: \"negative\", 1: \"positive\"}\n",
    "    pred_label = label_map[pred_class]\n",
    "\n",
    "    return pred_label, confidence\n",
    "\n"
   ]
  },
  {
   "cell_type": "markdown",
   "id": "f97ac3ea",
   "metadata": {},
   "source": [
    "\"This movie is fantastic! I really loved it.\""
   ]
  },
  {
   "cell_type": "code",
   "execution_count": 14,
   "id": "764b46dc",
   "metadata": {},
   "outputs": [
    {
     "name": "stdout",
     "output_type": "stream",
     "text": [
      "Preduct Result: positive, Prob: 0.9706\n"
     ]
    }
   ],
   "source": [
    "text = input()\n",
    "label, prob = predict_sentiment(model, vocab, simple_tokenizer, text, max_len=100, device=device)\n",
    "print(f\"Preduct Result: {label}, Prob: {prob:.4f}\")\n"
   ]
  },
  {
   "cell_type": "code",
   "execution_count": null,
   "id": "4b92f381",
   "metadata": {},
   "outputs": [],
   "source": []
  }
 ],
 "metadata": {
  "kernelspec": {
   "display_name": "torch_env",
   "language": "python",
   "name": "python3"
  },
  "language_info": {
   "codemirror_mode": {
    "name": "ipython",
    "version": 3
   },
   "file_extension": ".py",
   "mimetype": "text/x-python",
   "name": "python",
   "nbconvert_exporter": "python",
   "pygments_lexer": "ipython3",
   "version": "3.8.18"
  }
 },
 "nbformat": 4,
 "nbformat_minor": 5
}
