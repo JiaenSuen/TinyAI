{
 "cells": [
  {
   "cell_type": "code",
   "execution_count": 1,
   "id": "a25a50cc",
   "metadata": {},
   "outputs": [],
   "source": [
    "import torch\n",
    "import torch.nn as nn\n",
    "import torch.optim as optim\n",
    "import torch.nn.functional as F\n",
    "from torch.utils.data import DataLoader , Dataset\n",
    "\n",
    "import numpy as np\n",
    "import pandas as pd\n",
    "import re\n"
   ]
  },
  {
   "cell_type": "code",
   "execution_count": 2,
   "id": "b29ce99f",
   "metadata": {},
   "outputs": [
    {
     "name": "stdout",
     "output_type": "stream",
     "text": [
      "                                              review  sentiment\n",
      "0  One of the other reviewers has mentioned that ...          1\n",
      "1  A wonderful little production. <br /><br />The...          1\n",
      "2  I thought this was a wonderful way to spend ti...          1\n",
      "3  Basically there's a family where a little boy ...          0\n",
      "4  Petter Mattei's \"Love in the Time of Money\" is...          1\n"
     ]
    }
   ],
   "source": [
    "df = pd.read_csv('IMDB Dataset.csv')\n",
    "df['sentiment'] = df['sentiment'].map({'positive': 1, 'negative': 0})\n",
    "print(df[['review', 'sentiment']].head())"
   ]
  },
  {
   "cell_type": "markdown",
   "id": "ee3bab23",
   "metadata": {},
   "source": [
    "Text → tokenizer → vocab lookup → embedding → LSTM → hidden layer → linear → softmax → Classify"
   ]
  },
  {
   "cell_type": "markdown",
   "id": "1c6c97be",
   "metadata": {},
   "source": [
    "### Text Processing"
   ]
  },
  {
   "cell_type": "code",
   "execution_count": 3,
   "id": "4266788a",
   "metadata": {},
   "outputs": [],
   "source": [
    "from tokenizer import simple_tokenizer\n",
    "from vocab import build_vocab , tokens_to_ids\n",
    "from IMDBdataset import IMDBDataset\n",
    "texts = df['review'].tolist()\n",
    "# build vocab\n",
    "vocab = build_vocab(df['review'].tolist())\n",
    "# build dataset\n",
    "dataset = IMDBDataset(df, vocab, simple_tokenizer, max_len=100)"
   ]
  },
  {
   "cell_type": "code",
   "execution_count": 4,
   "id": "01a45a2e",
   "metadata": {},
   "outputs": [
    {
     "name": "stdout",
     "output_type": "stream",
     "text": [
      "torch.Size([32, 100])\n",
      "torch.Size([32])\n"
     ]
    }
   ],
   "source": [
    "dataloader = DataLoader(dataset, batch_size=32, shuffle=True)\n",
    "for batch in dataloader:\n",
    "    print(batch['input_ids'].shape)  # torch.Size([32, 100])\n",
    "    print(batch['label'].shape)      # torch.Size([32])\n",
    "    break"
   ]
  },
  {
   "cell_type": "markdown",
   "id": "6720c642",
   "metadata": {},
   "source": [
    "### Model"
   ]
  },
  {
   "cell_type": "code",
   "execution_count": 5,
   "id": "18552fa2",
   "metadata": {},
   "outputs": [],
   "source": [
    "from model import IMDBClassifier\n",
    "vocab_size = len(vocab)\n",
    "model = IMDBClassifier(vocab_size=vocab_size, embedding_dim=128, hidden_dim=128, num_classes=2)"
   ]
  },
  {
   "cell_type": "markdown",
   "id": "cce0df43",
   "metadata": {},
   "source": [
    "### Train"
   ]
  },
  {
   "cell_type": "code",
   "execution_count": 6,
   "id": "e2a7de75",
   "metadata": {},
   "outputs": [],
   "source": [
    "criterion = nn.CrossEntropyLoss()\n",
    "optimizer = optim.Adam(model.parameters(), lr=1e-3)\n",
    "device = torch.device('cuda' if torch.cuda.is_available() else 'cpu')\n",
    "model = model.to(device)"
   ]
  },
  {
   "cell_type": "markdown",
   "id": "ac73b825",
   "metadata": {},
   "source": [
    "Dataset: 文字 → token → id <br>\n",
    "↓<br>\n",
    "Model:<br>\n",
    "Embedding → LSTM → Linear<br>\n",
    "↓<br>\n",
    "CrossEntropyLoss + Optimizer<br>\n"
   ]
  },
  {
   "cell_type": "code",
   "execution_count": 7,
   "id": "22922c6d",
   "metadata": {},
   "outputs": [
    {
     "name": "stdout",
     "output_type": "stream",
     "text": [
      "Epoch 1: Loss = 0.6767, Accuracy = 0.5651\n",
      "Epoch 2: Loss = 0.5344, Accuracy = 0.7467\n",
      "Epoch 3: Loss = 0.3956, Accuracy = 0.8287\n",
      "Epoch 4: Loss = 0.3263, Accuracy = 0.8636\n",
      "Epoch 5: Loss = 0.2697, Accuracy = 0.8905\n",
      "Epoch 6: Loss = 0.2172, Accuracy = 0.9154\n",
      "Epoch 7: Loss = 0.1575, Accuracy = 0.9403\n",
      "Epoch 8: Loss = 0.1074, Accuracy = 0.9623\n",
      "Epoch 9: Loss = 0.0746, Accuracy = 0.9757\n",
      "Epoch 10: Loss = 0.0509, Accuracy = 0.9838\n",
      "Epoch 11: Loss = 0.0387, Accuracy = 0.9884\n",
      "Epoch 12: Loss = 0.0315, Accuracy = 0.9910\n",
      "Epoch 13: Loss = 0.0277, Accuracy = 0.9916\n",
      "Epoch 14: Loss = 0.0224, Accuracy = 0.9929\n",
      "Epoch 15: Loss = 0.0252, Accuracy = 0.9926\n",
      "Epoch 16: Loss = 0.0201, Accuracy = 0.9947\n",
      "Epoch 17: Loss = 0.0143, Accuracy = 0.9962\n",
      "Epoch 18: Loss = 0.0204, Accuracy = 0.9939\n",
      "Epoch 19: Loss = 0.0168, Accuracy = 0.9953\n",
      "Epoch 20: Loss = 0.0208, Accuracy = 0.9938\n"
     ]
    }
   ],
   "source": [
    "for epoch in range(20):\n",
    "    model.train()\n",
    "\n",
    "    total_loss = 0\n",
    "    total_correct = 0\n",
    "    total_samples = 0\n",
    "\n",
    "    for batch in dataloader:\n",
    "        input_ids = batch['input_ids'].to(device)\n",
    "        labels = batch['label'].to(device)\n",
    "\n",
    "        # Forward\n",
    "        outputs = model(input_ids)   \n",
    "        # Loss\n",
    "        loss = criterion(outputs, labels)\n",
    "        # Backward\n",
    "        optimizer.zero_grad()\n",
    "        loss.backward()\n",
    "        optimizer.step()\n",
    "\n",
    " \n",
    "        total_loss += loss.item()\n",
    "        preds = torch.argmax(outputs, dim=1)  \n",
    "        total_correct += (preds == labels).sum().item()\n",
    "        total_samples += labels.size(0)\n",
    "\n",
    "    avg_loss = total_loss / len(dataloader)\n",
    "    acc = total_correct / total_samples\n",
    "\n",
    "    print(f\"Epoch {epoch+1}: Loss = {avg_loss:.4f}, Accuracy = {acc:.4f}\")\n",
    "\n"
   ]
  },
  {
   "cell_type": "code",
   "execution_count": 15,
   "id": "54499bdc",
   "metadata": {},
   "outputs": [
    {
     "name": "stderr",
     "output_type": "stream",
     "text": [
      "C:\\Users\\user\\AppData\\Local\\Temp\\ipykernel_17672\\3419766903.py:3: FutureWarning: You are using `torch.load` with `weights_only=False` (the current default value), which uses the default pickle module implicitly. It is possible to construct malicious pickle data which will execute arbitrary code during unpickling (See https://github.com/pytorch/pytorch/blob/main/SECURITY.md#untrusted-models for more details). In a future release, the default value for `weights_only` will be flipped to `True`. This limits the functions that could be executed during unpickling. Arbitrary objects will no longer be allowed to be loaded via this mode unless they are explicitly allowlisted by the user via `torch.serialization.add_safe_globals`. We recommend you start setting `weights_only=True` for any use case where you don't have full control of the loaded file. Please open an issue on GitHub for any issues related to this experimental feature.\n",
      "  model.load_state_dict(torch.load('imdb_classifier.pth'))\n"
     ]
    },
    {
     "data": {
      "text/plain": [
       "IMDBClassifier(\n",
       "  (embedding): Embedding(10000, 128, padding_idx=0)\n",
       "  (lstm): LSTM(128, 128, batch_first=True)\n",
       "  (fc): Linear(in_features=128, out_features=2, bias=True)\n",
       ")"
      ]
     },
     "execution_count": 15,
     "metadata": {},
     "output_type": "execute_result"
    }
   ],
   "source": [
    "torch.save(model.state_dict(), 'imdb_classifier.pth')\n",
    "model = IMDBClassifier(vocab_size=vocab_size, embedding_dim=128, hidden_dim=128, num_classes=2)\n",
    "model.load_state_dict(torch.load('imdb_classifier.pth'))\n",
    "model.to(device)"
   ]
  },
  {
   "cell_type": "code",
   "execution_count": 16,
   "id": "38ce346f",
   "metadata": {},
   "outputs": [],
   "source": [
    "def predict_sentiment(model, vocab, tokenizer, text, max_len=100, device='cpu'):\n",
    "    model.eval()  \n",
    "    text = re.sub(r'<.*?>', '', text)\n",
    "    tokens = tokenizer(text)\n",
    "    token_ids = [vocab.get(token, vocab['<UNK>']) for token in tokens]\n",
    "    if len(token_ids) < max_len:\n",
    "        token_ids += [vocab['<PAD>']] * (max_len - len(token_ids))\n",
    "    else:\n",
    "        token_ids = token_ids[:max_len]\n",
    "    input_ids = torch.tensor([token_ids], dtype=torch.long).to(device)  # shape: [1, max_len]\n",
    "\n",
    "\n",
    "\n",
    "    #  forward\n",
    "    with torch.no_grad():\n",
    "        outputs = model(input_ids)  # shape: [1, 2]\n",
    "\n",
    "        # softmax  \n",
    "        probs = F.softmax(outputs, dim=1)\n",
    "        pred_class = torch.argmax(probs, dim=1).item()\n",
    "        confidence = probs[0, pred_class].item()\n",
    "\n",
    "    #  output ...\n",
    "    label_map = {0: \"negative\", 1: \"positive\"}\n",
    "    pred_label = label_map[pred_class]\n",
    "\n",
    "    return pred_label, confidence\n",
    "\n"
   ]
  },
  {
   "cell_type": "markdown",
   "id": "f97ac3ea",
   "metadata": {},
   "source": [
    "\"This movie is fantastic! I really loved it.\""
   ]
  },
  {
   "cell_type": "code",
   "execution_count": 17,
   "id": "764b46dc",
   "metadata": {},
   "outputs": [
    {
     "name": "stdout",
     "output_type": "stream",
     "text": [
      "Preduct Result: positive, Prob: 0.9995\n"
     ]
    }
   ],
   "source": [
    "text = \"This movie is fantastic! I really loved it.\" #input()\n",
    "label, prob = predict_sentiment(model, vocab, simple_tokenizer, text, max_len=100, device=device)\n",
    "print(f\"Preduct Result: {label}, Prob: {prob:.4f}\")\n"
   ]
  },
  {
   "cell_type": "code",
   "execution_count": null,
   "id": "4b92f381",
   "metadata": {},
   "outputs": [],
   "source": []
  }
 ],
 "metadata": {
  "kernelspec": {
   "display_name": "torch_env",
   "language": "python",
   "name": "python3"
  },
  "language_info": {
   "codemirror_mode": {
    "name": "ipython",
    "version": 3
   },
   "file_extension": ".py",
   "mimetype": "text/x-python",
   "name": "python",
   "nbconvert_exporter": "python",
   "pygments_lexer": "ipython3",
   "version": "3.8.18"
  }
 },
 "nbformat": 4,
 "nbformat_minor": 5
}
